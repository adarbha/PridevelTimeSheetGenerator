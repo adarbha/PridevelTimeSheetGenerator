{
 "cells": [
  {
   "cell_type": "markdown",
   "metadata": {},
   "source": [
    "First google search yields openpyxl as a trusted library - quoting verbatim - \"openpyxl is a Python library to read/write Excel 2010 xlsx/xlsm/xltx/xltm files.\"<br/>\n",
    "So downloading and importing openpyxl<br/>\n",
    "\n",
    "Sample file is located at **sample_pridevel.xlsx**<br/>\n",
    "\n",
    "Data values that need to be changed are in the range B13 to Q13 -  B29 to Q29<br/>\n",
    "However B14 - Q14 is the <br/>"
   ]
  },
  {
   "cell_type": "code",
   "execution_count": 2,
   "metadata": {},
   "outputs": [],
   "source": [
    "# !pip install openpyxl"
   ]
  },
  {
   "cell_type": "code",
   "execution_count": 95,
   "metadata": {},
   "outputs": [
    {
     "name": "stdout",
     "output_type": "stream",
     "text": [
      "8\n"
     ]
    },
    {
     "name": "stderr",
     "output_type": "stream",
     "text": [
      "/anaconda3/lib/python3.6/site-packages/openpyxl/reader/worksheet.py:318: UserWarning: Unknown extension is not supported and will be removed\n",
      "  warn(msg)\n"
     ]
    }
   ],
   "source": [
    "from openpyxl import load_workbook\n",
    "\n",
    "file_name = 'sample_pridevel.xlsx'\n",
    "wb = load_workbook(filename = file_name)\n",
    "#Get the first sheet by name as that is what matters\n",
    "sheet_name = wb.sheetnames[0]\n",
    "\n",
    "#Sheet object\n",
    "sheet = wb[sheet_name]\n",
    "\n",
    "#Data values\n",
    "print(sheet['I13'].value)"
   ]
  },
  {
   "cell_type": "markdown",
   "metadata": {},
   "source": [
    "### Map dates to cells\n",
    "1 - 15 is range B13 to P13\n",
    "16 - 31 is range B14 to Q14"
   ]
  },
  {
   "cell_type": "code",
   "execution_count": 106,
   "metadata": {},
   "outputs": [],
   "source": [
    "def map_dates_to_cells(sheet):\n",
    "    '''Dates 1 - 15 is range B13 to P13 and 16 - 31 is range B14 to Q14. Generate a dict with that info.\n",
    "    Sheet object is the input'''\n",
    "    dates_to_cells = {}\n",
    "    dates_to_cells = dates_to_cells.fromkeys(range(1,32))\n",
    "    cell_range_B13_P13 = sheet['B13:P13'][0]\n",
    "    cell_range_B14_Q14 = sheet['B14:Q14'][0]\n",
    "    for key,value in dates_to_cells.items():\n",
    "        if (key > 0) and (key < 16):\n",
    "            dates_to_cells[key] = cell_range_B13_P13[key-1]\n",
    "        else:\n",
    "            dates_to_cells[key] = cell_range_B14_Q14[key - 16]\n",
    "    \n",
    "    return dates_to_cells\n"
   ]
  },
  {
   "cell_type": "code",
   "execution_count": 107,
   "metadata": {},
   "outputs": [],
   "source": [
    "map_to_cells_obj = map_dates_to_cells(sheet)\n",
    "\n",
    "def reset_all_cells(map_dates_to_cells):\n",
    "    for key in map_dates_to_cells.keys():\n",
    "        map_dates_to_cells[key].value = 0"
   ]
  },
  {
   "cell_type": "code",
   "execution_count": 108,
   "metadata": {},
   "outputs": [],
   "source": [
    "def fill_cell(map_of_dates_work_hrs):\n",
    "    '''fill_cells based on map_of_dates_work_hrs - for eg {1:8,2:4} means 8 hours of work on 1 and 4 hours on 2'''\n",
    "    for key,value in map_of_dates_work_hrs.items():\n",
    "        map_to_cells_obj[key].value = value"
   ]
  },
  {
   "cell_type": "code",
   "execution_count": 136,
   "metadata": {},
   "outputs": [
    {
     "data": {
      "text/plain": [
       "11"
      ]
     },
     "execution_count": 136,
     "metadata": {},
     "output_type": "execute_result"
    }
   ],
   "source": [
    "import pandas as pd\n",
    "import datetime\n",
    "pd.bdate_range(start=\"02-11-2019\",end=\"02-15-2019\",holidays=[datetime.datetime(2019,2,13)],freq='C').tolist()[0]"
   ]
  },
  {
   "cell_type": "code",
   "execution_count": 115,
   "metadata": {},
   "outputs": [
    {
     "data": {
      "text/plain": [
       "4"
      ]
     },
     "execution_count": 115,
     "metadata": {},
     "output_type": "execute_result"
    }
   ],
   "source": []
  },
  {
   "cell_type": "code",
   "execution_count": null,
   "metadata": {},
   "outputs": [],
   "source": []
  }
 ],
 "metadata": {
  "kernelspec": {
   "display_name": "Python 3",
   "language": "python",
   "name": "python3"
  },
  "language_info": {
   "codemirror_mode": {
    "name": "ipython",
    "version": 3
   },
   "file_extension": ".py",
   "mimetype": "text/x-python",
   "name": "python",
   "nbconvert_exporter": "python",
   "pygments_lexer": "ipython3",
   "version": "3.6.5"
  }
 },
 "nbformat": 4,
 "nbformat_minor": 2
}
